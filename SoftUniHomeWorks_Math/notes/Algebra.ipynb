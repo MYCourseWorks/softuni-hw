{
 "cells": [
  {
   "cell_type": "code",
   "execution_count": 5,
   "metadata": {},
   "outputs": [],
   "source": [
    "import numpy as np\n",
    "import matplotlib.pyplot as plt\n",
    "import matplotlib.pylab as plab"
   ]
  },
  {
   "cell_type": "markdown",
   "metadata": {},
   "source": [
    "# Algebra\n",
    "\n",
    "Algebra is the study of mathematical symbols and the rules for manipulating these symbols.\n",
    "\n",
    "**TODO**"
   ]
  },
  {
   "cell_type": "markdown",
   "metadata": {},
   "source": [
    "# Coordinate Systems\n",
    "\n",
    "**TODO**"
   ]
  },
  {
   "cell_type": "markdown",
   "metadata": {},
   "source": [
    "# Sets\n",
    "\n",
    "Sets are a tool that helps us group objects together and think about relations between them. Elements in a set are always **unique** and **unordered**.\n",
    "\n",
    "To indicate that an object x is a member of a set A we write x $\\in$ A, while x $\\notin$ A indicates that x is not a member of A.\n",
    "\n",
    "### Special Sets\n",
    "\n",
    "$\\emptyset$ - denotes the **empty set**.\n",
    "\n",
    "$\\mathbb{N}$ - stands for the set of all natural numbers, or $\\mathbb{N} = \\{0, 1, 2, 3,...\\}$\n",
    "\n",
    "$\\mathbb{Z}$ - stands for the set of all integer numbers, or $\\mathbb{Z} = \\{..., -2, -1, 0, 1, 2, 3,...\\}$\n",
    "\n",
    "$\\mathbb{Q}$ - stands for the set of all rational numbers, or $\\mathbb{Q} = \\{\\dfrac{a}{b}: a,b \\in \\mathbb{Z}, b \\neq 0\\}$ . For example, $\\dfrac{1}{4} \\in \\mathbb{Q}$ and $\\dfrac{11}{6} \\in \\mathbb{Q}$. All integers are in this set since every integer a can be expressed as the fraction $\\dfrac{a}{1} (\\mathbb{Z} \\subseteq \\mathbb{Q})$.\n",
    "\n",
    "$\\mathbb{R}$ - stands for the set of all real numbers. Includes all $\\mathbb{Q}$ and all **irrational numbers**. An irrational number is a number that can't be represented as a fraction, for example $\\pi = 3.14159265358979... $ can be written as $\\dfrac{22}{7} = 3.1428571428571...$, which is close but not the same. **Irrational numbers** can be denoted as $\\mathbb{R} - \\mathbb{Q}$.\n",
    "\n",
    "[Detailed explination of real numbers](./RealNumbers.html)\n",
    "\n",
    "$\\mathbb{C}$ - stands for the set of all complex numbers, or $\\mathbb{C} = \\{a + bi: a,b \\in \\mathbb{R}\\}$. $\\sqrt{-1} = i$, $\\sqrt{-4} = \\sqrt{4} \\cdot \\sqrt{-1} = 2i$\n",
    "\n",
    "\n",
    "### Set definition\n",
    "\n",
    "A set may be defined by a membership rule (formula) or by listing its members within braces.\n",
    "\n",
    "For example:\n",
    "\n",
    "$A := \\{2, 4, 6, 8\\dots\\}$\n",
    "\n",
    "$B := \\{x: x \\in \\mathbb{N}, x > 0, x \\text{ mod } 2 = 0 \\} $\n",
    "\n",
    "$ A = B $\n"
   ]
  },
  {
   "cell_type": "markdown",
   "metadata": {},
   "source": [
    "### Basic operations with sets\n",
    "\n",
    "#### Subsets\n",
    "\n",
    "If every member of set A is also a member of set B, then A is said to be a subset of B, written $ A \\subseteq B $. Equivalently B is a superset of A, written as $ B \\supseteq A $.\n",
    "\n",
    "Examples:\n",
    "$$ \n",
    "\\{1, 3\\} \\subseteq \\{1, 2, 3, 4\\}\\\\\n",
    "\\{1, 2, 3, 4\\} \\subseteq \\mathbb{N}\n",
    "$$\n",
    "    \n",
    "The empty set is a subset of every set and every set is a subset of itself:\n",
    "$$\n",
    "\\emptyset \\subseteq A\\\\\n",
    "A \\subseteq A\n",
    "$$\n",
    "\n",
    "$ A = B $ if and only if $ A \\subseteq B $ and $ B \\subseteq A $.\n",
    "\n",
    "#### Unions\n",
    "\n",
    "Two sets can be \"added\" together. The union of A and b, denoted by $ A \\cup B $, is the set of all things which are members of either A or B.\n",
    "\n",
    "$$ \n",
    "\\{1, 2\\} \\cup \\{red, white\\} = \\{1, 2, red, white\\}\\\\\n",
    "\\{1, 2, green\\} \\cup \\{red, white, green\\} = \\{1, 2, red, white, green\\}\\\\\n",
    "\\{1, 2\\} \\cup \\{1, 2\\} = \\{1, 2\\} \n",
    "$$\n",
    "\n",
    "Basic properties :\n",
    "\n",
    "$ A \\cup B = B \\cup A $ - **commutativity**\n",
    "\n",
    "$ A \\cup (B \\cup C) = (A \\cup B) \\cup C $ - **associativity**\n",
    "\n",
    "$ A \\subseteq (A \\cup B) $\n",
    "\n",
    "$ A \\subseteq B \\text{ if and only if } A \\subseteq B = B $\n",
    "\n",
    "$ A \\cup A = A $\n",
    "\n",
    "$ A \\cup \\emptyset = A $\n",
    "\n",
    "#### Intersections\n",
    "\n",
    "A new set can also be constructed by determining which members two sets have \"in common\". The intersection of A and B, denoted by $ A \\cap B $, is the set of all things which are members of both A and B. If $ A \\cap B = \\emptyset $, then A and B are said to be **disjoint**.\n",
    "\n",
    "Examples:\n",
    "$$\n",
    "\\{1, 2\\} \\cap \\{red, white\\} = \\emptyset \\\\\n",
    "\\{1, 2, green\\} \\cap \\{red, white, green\\} = \\{green\\} \\\\\n",
    "\\{1, 2\\} \\cap \\{1, 2\\} = \\{1, 2\\}\n",
    "$$\n",
    "\n",
    "Basic Properties:\n",
    "\n",
    "$ A \\cap B = B \\cap A $ - **commutativity**\n",
    "\n",
    "$ A \\cap (B \\cap C) = (A \\cap B) \\cap C $ - **associativity**\n",
    "\n",
    "$ A \\cap B ⊆ A $\n",
    "\n",
    "$ A \\cap A = A $\n",
    "\n",
    "$ A \\cap \\emptyset = \\emptyset $\n",
    "\n",
    "$ A \\subseteq B \\text{ if and only if } A \\cap B = A $\n",
    "\n",
    "#### Complements\n",
    "\n",
    "Two sets can also be \"subtracted\". The relative complement of B in A denoted by A \\ B (or A − B), is the set of all elements which are members of A but not members of B.\n",
    "\n",
    "In certain settings all sets under discussion are considered to be subsets of a given universal set U. In such cases, U \\ A is called the absolute complement or simply complement of A, and is denoted by A′.\n",
    "\n",
    "Examples:\n",
    "\n",
    "$$ \n",
    "\\{1, 2\\} \\backslash \\{red, white\\} = \\{1, 2\\} \\\\\n",
    "\\{1, 2, green\\} \\backslash \\{red, white, green\\} = \\{1, 2\\} \\\\\n",
    "\\{1, 2\\} \\backslash \\{1, 2\\} = \\emptyset \\\\\n",
    "\\{1, 2, 3, 4\\} \\backslash \\{1, 3\\} = \\{2, 4\\} \n",
    "$$\n",
    "\n",
    "Basic properties:\n",
    "\n",
    "$ A \\backslash B \\neq B \\backslash A \\text{ for } A \\neq B $\n",
    "\n",
    "$ A \\cup A′ = \\cup $\n",
    "\n",
    "$ A \\cap A′ = \\emptyset $\n",
    "\n",
    "$ (A′)′ = A $\n",
    "\n",
    "$ A \\backslash A = \\emptyset $\n",
    "\n",
    "$ U′ = \\emptyset \\text{ and } \\emptyset′ = U $\n",
    "\n",
    "$ A \\backslash B = A \\cap B′ $"
   ]
  },
  {
   "cell_type": "markdown",
   "metadata": {},
   "source": [
    "<img src=\"SetsVisualRepresentation.png\"/>"
   ]
  },
  {
   "cell_type": "code",
   "execution_count": 6,
   "metadata": {},
   "outputs": [
    {
     "name": "stdout",
     "output_type": "stream",
     "text": [
      "4\n",
      "True\n",
      "True\n",
      "True\n",
      "{3, 4}\n",
      "{3, 4}\n",
      "True\n",
      "{1, 2, 3, 4, 5, 10}\n",
      "{1, 2}\n",
      "{10, 5}\n",
      "{1, 2, 5, 10}\n"
     ]
    }
   ],
   "source": [
    "# Python code for sets :\n",
    "\n",
    "A = { 1, 2, 3, 4 }\n",
    "B = { 3, 4, 5, 10, 3, 5, 10, 3, 3 }\n",
    "\n",
    "print(len(B)) # 4                                  also known as the cardinality of the set\n",
    "print(1 in A) # True                               {1} ∩ A != ∅\n",
    "print(10 not in A) # True                          {10} ∩ B = ∅\n",
    "print(A.isdisjoint({5, 15})) # True                A ∩ {5, 15} = ∅\n",
    "print(A.intersection(B)) # {3, 4}                  A ∩ B\n",
    "print(B.intersection(A)) # {3, 4}                  B ∩ A\n",
    "print({1, 2}.issubset(A)) # True                   {1, 2} ⊆ A\n",
    "print(A.union(B)) # {1, 2, 3, 4, 5, 10}            A ∪ B\n",
    "print(A.difference(B)) # {1, 2}                    A \\ B or A ∩ B`\n",
    "print(B.difference(A)) # {10, 5}                   B \\ A or A` ∩ B\n",
    "print(A.symmetric_difference(B)) # {1, 2, 5, 10}  (A \\ B) ∪ (B \\ A) or (A ∩ B`) ∪ (A` ∩ B)"
   ]
  },
  {
   "cell_type": "markdown",
   "metadata": {},
   "source": [
    "#### Certisian Product (TODO)"
   ]
  },
  {
   "cell_type": "markdown",
   "metadata": {},
   "source": [
    "# Functions\n",
    "\n",
    "A function takes an input set and maps it onto an output set, this is why functions are also called mappings.\n",
    "\n",
    "$$ \n",
    "    Input \\rightarrow Function \\rightarrow Output \\\\\n",
    "    x \\rightarrow f \\rightarrow f(x)\n",
    "$$\n",
    "\n",
    "**Domain** - the set of all valid inputs.\n",
    "\n",
    "**Range or codomain** - the set of all valid outputs.\n",
    "\n",
    "**An important rule that defines functions** - is that no two values in the **domain** can map to different values in the **range** !\n",
    "\n",
    "Functions can be\n",
    "* **Injective** (one-to-one): unique inputs map to unique outputs\n",
    "* **Surjective** (onto): every element in the range is mapped\n",
    "* **Bijective** (one-to-one correspondence): injective and surjective\n",
    "\n",
    "![Functions](./Functions.png)\n",
    "\n",
    "Example:\n",
    "$$\n",
    "    f(x) = \\dfrac{2}{x}, \\{x \\in \\mathbb{R} \\mid x \\neq 0 \\}\n",
    "$$\n",
    "\n",
    "**Composition** - applaing functions one after the other in a pipeline :\n",
    "\n",
    "$$\n",
    "    f \\circ g = f(g(x)) \\\\\n",
    "    f(x) = 2x + 3, g(x) = x^2 \\\\\n",
    "    (f \\circ g)(x) = f(g(x)) = f(x^2) = 2x^2 + 3 \\\\\n",
    "    (g \\circ f)(x) = g(f(x)) = g(2x+3) = (2x + 3)^2 \n",
    "$$\n",
    "\n",
    "**Inverse of a function** - is a function that reverses the mapping of the output and the input set.\n",
    "\n",
    "$$ \n",
    "    Input \\rightarrow Function \\rightarrow Output \\rightarrow Inverse\\ Function \\rightarrow Input \\\\\n",
    "      x \\rightarrow f \\rightarrow f(x) \\rightarrow f^{-1} \\rightarrow f^{-1}(f(x)) \\rightarrow x\n",
    "$$\n",
    "\n",
    "Example:\n",
    "\n",
    "$$\n",
    "    f(x) = -2x - 1\\\\    \n",
    "$$\n",
    "\n",
    "We get the inverse of that function by reversing the input and the output :\n",
    "\n",
    "$$\n",
    "    y = -2x - 1\\\\\n",
    "    x = - \\dfrac{y}{2} - \\dfrac{1}{2}\\\\\n",
    "    f^{-1}(y) = - \\dfrac{y}{2} - \\dfrac{1}{2}\n",
    "$$\n",
    "\n",
    "Substituting:\n",
    "\n",
    "$$\n",
    "    f(1) = -2 - 1 = -3 \\ \\Longrightarrow \\ f^{-1}(-3) = - \\dfrac{-3}{2} - \\dfrac{1}{2} = 1 \\\\\n",
    "    f(2) = -4 - 1 = -5 \\ \\Longrightarrow \\ f^{-1}(-5) = - \\dfrac{-5}{2} - \\dfrac{1}{2} = 2\n",
    "$$\n",
    "\n",
    "A lot of functions do **NOT** have inverse functions, for example:\n",
    "$$\n",
    "    f(x) = x^2\\\\\n",
    "    g(x) = cos(x)\n",
    "$$"
   ]
  },
  {
   "cell_type": "markdown",
   "metadata": {},
   "source": [
    "# Polynoms\n",
    "\n",
    "**TODO**\n",
    "\n",
    "TODO: find place for this\n",
    "Fundamental Theorem of Algebra\n",
    " \"Every non-zero, single-variable, degree-𝑛 polynomial with complex\n",
    "coefficients has, counted with multiplicity, exactly 𝑛 complex roots\"\n",
    " More simply said, every algebraic equation has as many roots as its power"
   ]
  },
  {
   "cell_type": "markdown",
   "metadata": {},
   "source": [
    "# Liner Functions\n",
    "\n",
    "**TODO**"
   ]
  },
  {
   "cell_type": "markdown",
   "metadata": {},
   "source": [
    "## Linear equasions\n",
    "\n",
    "The function $y=2x-2$ graph looks like :"
   ]
  },
  {
   "cell_type": "code",
   "execution_count": 7,
   "metadata": {
    "scrolled": true
   },
   "outputs": [
    {
     "data": {
      "image/png": "[encoded data removed]",
      "text/plain": [
       "<Figure size 576x576 with 1 Axes>"
      ]
     },
     "metadata": {
      "needs_background": "light"
     },
     "output_type": "display_data"
    }
   ],
   "source": [
    "def plot_linear_eq(a, b, minPoints, maxPoints):\n",
    "    plt.figure(figsize=(8,8))\n",
    "    \n",
    "    plt.gca().spines['top'].set_color('none')\n",
    "    plt.gca().spines['bottom'].set_position('zero')\n",
    "    plt.gca().spines['left'].set_position('zero')\n",
    "    plt.gca().spines['right'].set_color('none')\n",
    "    \n",
    "    x = np.linspace(minPoints, maxPoints, 1000)\n",
    "    y = [(a*i + b) for i in x]\n",
    "    \n",
    "    plt.plot(x, y)\n",
    "    plt.show()\n",
    "    \n",
    "plot_linear_eq(2, -2, -3, 3)"
   ]
  },
  {
   "cell_type": "code",
   "execution_count": 8,
   "metadata": {},
   "outputs": [
    {
     "data": {
      "image/png": "[encoded data removed]",
      "text/plain": [
       "<Figure size 432x288 with 2 Axes>"
      ]
     },
     "metadata": {
      "needs_background": "light"
     },
     "output_type": "display_data"
    }
   ],
   "source": [
    "def solution_matrix_linear_eq(a, b, minPoints, maxPoints, count):\n",
    "    x = np.linspace(minPoints, maxPoints, count)\n",
    "    y = [(a*i + b) for i in x]\n",
    "\n",
    "    fig, axs =plt.subplots(2,1)\n",
    "    axs[0].axis('off')\n",
    "    axs[1].axis('off')\n",
    "\n",
    "    xy = [[x[i], y[i]] for i in range(len(x))]\n",
    "    \n",
    "    collabel=(\"X\", \"Y\")\n",
    "    the_table = axs[0].table(cellText=xy, colLabels=collabel, loc='center')\n",
    "\n",
    "    plt.show()\n",
    "\n",
    "solution_matrix_linear_eq(2, -2, 0, 1, 10)"
   ]
  }
 ],
 "metadata": {
  "kernelspec": {
   "display_name": "Python 3",
   "language": "python",
   "name": "python3"
  },
  "language_info": {
   "codemirror_mode": {
    "name": "ipython",
    "version": 3
   },
   "file_extension": ".py",
   "mimetype": "text/x-python",
   "name": "python",
   "nbconvert_exporter": "python",
   "pygments_lexer": "ipython3",
   "version": "3.7.7"
  }
 },
 "nbformat": 4,
 "nbformat_minor": 4
}
