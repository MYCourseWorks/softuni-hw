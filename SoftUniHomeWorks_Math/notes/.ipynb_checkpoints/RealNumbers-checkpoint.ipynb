{
 "cells": [
  {
   "cell_type": "markdown",
   "metadata": {},
   "source": [
    "# Real Numbers\n",
    "\n",
    "A Rational number is the set of all numbers that can be expresed as the ratio of two integers $\\dfrac{a}{b}$ where $a, b \\in \\mathbb{Z}$. \n",
    "\n",
    "Turns out there are numbers that can't be expressed as a ratio of two integers and those numbers are called **irrational**. But how do we prove such numbers exists?"
   ]
  },
  {
   "cell_type": "markdown",
   "metadata": {},
   "source": [
    "# Proof\n",
    "\n",
    "Let's start with the definition of an even number :\n",
    "\n",
    "$2 \\cdot c$ where $c \\in \\mathbb{Z}$\n",
    "\n",
    "and the definiton of an odd number :\n",
    "\n",
    "$2 \\cdot c + 1$ where $c \\in \\mathbb{Z}$\n",
    "\n",
    "Next we prove that the square of an even number is even:\n",
    "\n",
    "$(2c)^2 = 2c \\cdot 2c = (4c)^2 = 2 \\cdot (2c^2)$ so we got $2$ times some integer $(2c^2)$, which is the definition of an even number.\n",
    "\n",
    "and the same for odd numbers :\n",
    "\n",
    "$(2c + 1)^2 = (2c + 1) \\cdot (2c + 1) = 4c^2 + 2c + 2c + 1 = 4c^2 + 4c + 1 = 2 \\cdot (2c^2 + 2c) + 1 $ so we got an even number $2 \\cdot (\\text{some stuff here...})$ plus 1, which is the definition of an odd number."
   ]
  },
  {
   "cell_type": "markdown",
   "metadata": {},
   "source": [
    "\n",
    "Next we prove squaring of rational numbers :\n",
    "\n",
    "$\\dfrac{a}{b} \\cdot \\dfrac{a}{b} = \\dfrac{a^2}{b^2}$\n",
    "\n",
    "How can we be sure this is correct ?\n",
    "\n",
    "If we take the fact that multiplication and division are inverse operations we can do the following :\n",
    "\n",
    "$\\dfrac{a}{b} \\cdot \\dfrac{c}{d} = \\dfrac{a}{b} \\cdot \\dfrac{c}{d} \\cdot bd \\div bd$\n",
    "\n",
    "from that we can prove what we wanted :\n",
    "\n",
    "$\\dfrac{a}{b} \\cdot b \\cdot \\dfrac{c}{d} \\cdot d \\div bd = ac \\div db = \\dfrac{ab}{bd}$"
   ]
  },
  {
   "cell_type": "markdown",
   "metadata": {},
   "source": [
    "One last thing to think about rational numbers - **Every single ratio between integers can be reduced to lowest turms and if it can't then it is NOT a ratio of integers !**. For example :\n",
    "\n",
    "$ \\dfrac{8}{4} = 2 $\n",
    "\n",
    "$ \\dfrac{9}{18} = \\dfrac{1}{2} $"
   ]
  },
  {
   "cell_type": "markdown",
   "metadata": {},
   "source": [
    "Now we can finally prove that **irrational** numbers exist.\n",
    "\n",
    "Let's examine the $\\sqrt{2}$, if it is a rational number, then it must be equal to the ratio of two integers $\\sqrt{2} = \\dfrac{a}{b}$ where a, b $\\in \\mathbb{Z}$\n",
    "\n",
    "$\\sqrt{2} = \\dfrac{a}{b}$ then $2 = (\\dfrac{a}{b})^2 = \\dfrac{a}{b} \\cdot \\dfrac{a}{b} = \\dfrac{a^2}{b^2} $\n",
    "\n",
    "$\\dfrac{a^2}{b^2}$ should equal $2$ !\n",
    "\n",
    "$\\dfrac{a^2}{b^2}$ = $2$\n",
    "\n",
    "${a^2} = 2 \\cdot {b^2} $ so the right hand side fits the definition of an even number, but then ${a^2}$ **is also even** and from that we know that $a$ **is even**!\n",
    "\n",
    "So then $a = 2 \\cdot c$ we plug that in the previous equastion :\n",
    "\n",
    "$(2c)^2 = 2b^2$\n",
    "\n",
    "$4c^2 = 2b^2 | 2$\n",
    "\n",
    "$2c^2 = b^2$ so this proves that $b$ **is also even**!\n",
    "\n",
    "We found a contradiction !\n",
    "\n",
    "In $\\sqrt{2} = \\dfrac{a}{b}$ if both a and b are even, then they can **NOT** be coprime, or the ratio is **NOT** in lowest turms and we can **infinetly divide by 2** !"
   ]
  },
  {
   "cell_type": "markdown",
   "metadata": {},
   "source": [
    "# Conclusion\n",
    "\n",
    "$\\sqrt{2}$ is not a rational number."
   ]
  }
 ],
 "metadata": {
  "kernelspec": {
   "display_name": "Python 3",
   "language": "python",
   "name": "python3"
  },
  "language_info": {
   "codemirror_mode": {
    "name": "ipython",
    "version": 3
   },
   "file_extension": ".py",
   "mimetype": "text/x-python",
   "name": "python",
   "nbconvert_exporter": "python",
   "pygments_lexer": "ipython3",
   "version": "3.7.4"
  }
 },
 "nbformat": 4,
 "nbformat_minor": 4
}
