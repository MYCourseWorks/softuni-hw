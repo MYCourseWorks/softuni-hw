{
 "cells": [
  {
   "cell_type": "markdown",
   "metadata": {},
   "source": [
    "# Complex Numbers\n",
    "\n",
    "A complex number is a number that can be expressed in the form $ a + bi $, where $a$ and $b$ are real numbers, and $i$ is a solution of the equation $ x^2 = −1 $.\n",
    "\n",
    "The imaginary unit:\n",
    "\n",
    "$$\n",
    "i^2=-1\\\\\n",
    "i=\\sqrt{-1}\\\\\n",
    "$$\n",
    "\n",
    "$i$ is defined by the following series:\n",
    "\n",
    "$$\n",
    "i^0 = 1 \\\\\n",
    "i^1 = i \\\\\n",
    "i^2 = -1 \\\\\n",
    "$$\n",
    "\n",
    "Every next value is derived from the first 3 elements.\n",
    "\n",
    "$$\n",
    "i^3 = i^2i = (-1)i = -i \\\\\n",
    "i^4 = i^2i^2 = (-1)(-1) = 1 \\\\\n",
    "i^5 = i^4i = (1)i = i \\\\\n",
    "i^6 = i^4i^2 = (1)(-1) = -1 \\\\\n",
    "i^7 = i^6i = (-1)i = -i \\\\\n",
    "i^{100} = i^{4\\cdot25} = (i^4)^{25} = 1^{25} = 1 \\\\\n",
    "i^{201} = i^{200}i^{1} = (i^4)^{50}i^1 = i\n",
    "$$\n",
    "\n",
    "Example:\n",
    "\n",
    "$$\n",
    "\\sqrt{-5} = \\sqrt{-1}\\sqrt{5} = \\sqrt{5}i\n",
    "$$\n",
    "\n",
    "**Very important**, associativity works only if one of the numbers is positivie and the following is illegal:\n",
    "\n",
    "$$\n",
    "\\sqrt{5} = \\sqrt{(-1)(-5)} \\neq \\sqrt{-1}\\sqrt{-5} ...\n",
    "$$\n",
    "\n",
    "Now we can solve quadratic equations with complex roots:\n",
    "\n",
    "$$\n",
    "    2x^2 -6x + 5 = 0 \\\\\n",
    "    x = \\frac{-b \\pm \\sqrt{b^2-4ac}}{2a} \\\\\n",
    "$$\n",
    "\n",
    "After boring calculation we get:\n",
    "\n",
    "$$\n",
    "    x_{1} = \\frac{3}{2} + \\frac{1}{2}i \\\\\n",
    "    x_{2} = \\frac{3}{2} - \\frac{1}{2}i \\\\\n",
    "$$\n",
    "\n",
    "And we can plug those roots in the equation to verify that they are correct."
   ]
  }
 ],
 "metadata": {
  "kernelspec": {
   "display_name": "Python 3",
   "language": "python",
   "name": "python3"
  },
  "language_info": {
   "codemirror_mode": {
    "name": "ipython",
    "version": 3
   },
   "file_extension": ".py",
   "mimetype": "text/x-python",
   "name": "python",
   "nbconvert_exporter": "python",
   "pygments_lexer": "ipython3",
   "version": "3.8.5"
  }
 },
 "nbformat": 4,
 "nbformat_minor": 4
}
